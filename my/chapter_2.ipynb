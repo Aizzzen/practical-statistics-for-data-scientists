{
 "cells": [
  {
   "cell_type": "code",
   "execution_count": 2,
   "id": "f599280b-60e2-41e1-bfd9-64884e7fa8a7",
   "metadata": {},
   "outputs": [],
   "source": [
    "%matplotlib inline\n",
    "\n",
    "import pandas as pd\n",
    "import numpy as np\n",
    "from pathlib import Path\n",
    "from scipy import stats\n",
    "from sklearn.utils import resample\n",
    "\n",
    "import seaborn as sns\n",
    "import matplotlib.pyplot as plt"
   ]
  },
  {
   "cell_type": "code",
   "execution_count": 3,
   "id": "d02828e2-711c-4eae-8bab-426306740328",
   "metadata": {},
   "outputs": [],
   "source": [
    "try:\n",
    "    import common\n",
    "    DATA = common.dataDirectory()\n",
    "except:\n",
    "    DATA = '/home/gadamurrr/Desktop/practical-statistics-for-data-scientists/data/'"
   ]
  },
  {
   "cell_type": "code",
   "execution_count": 4,
   "id": "b8273e6e-6bc3-4f14-8100-0fcd7d536ff3",
   "metadata": {},
   "outputs": [],
   "source": [
    "LOANS_INCOME_CSV = DATA + 'loans_income.csv'\n",
    "SP500_DATA_CSV = DATA + 'sp500_data.csv.gz'"
   ]
  },
  {
   "cell_type": "code",
   "execution_count": 7,
   "id": "93f4a318-1e35-4d3e-9abc-7ef7d3bb4c10",
   "metadata": {},
   "outputs": [
    {
     "data": {
      "image/png": "[encoded data removed]",
      "text/plain": [
       "<Figure size 500x150 with 2 Axes>"
      ]
     },
     "metadata": {},
     "output_type": "display_data"
    }
   ],
   "source": [
    "# Фиксирует случайное зерно (seed=1) для воспроизводимости результатов.\n",
    "# Без этого при каждом запуске генерировались бы разные случайные числа.\n",
    "np.random.seed(seed=1)\n",
    "\n",
    "# x: Равномерно распределенные точки на интервале [-3, 3] для построения графика плотности.\n",
    "# xsample: 1000 значений, сгенерированных из стандартного нормального распределения (среднее=0, стандартное отклонение=1).\n",
    "x = np.linspace(-3, 3, 300)\n",
    "xsample = stats.norm.rvs(size=1000)\n",
    "\n",
    "# Создает фигуру с двумя горизонтальными subplots (ширина=5 дюймов, высота=1.5 дюйма).\n",
    "fig, axes = plt.subplots(ncols=2, figsize=(5, 1.5))\n",
    "\n",
    "# Рисует теоретическую плотность нормального распределения (stats.norm.pdf(x)).\n",
    "# fill() закрашивает область под кривой.\n",
    "# Оси скрыты для минималистичного отображения.\n",
    "ax = axes[0]\n",
    "ax.fill(x, stats.norm.pdf(x))\n",
    "ax.set_axis_off()\n",
    "ax.set_xlim(-3, 3)\n",
    "\n",
    "\n",
    "# Строит гистограмму случайных значений xsample.\n",
    "# bins=30 — число столбцов гистограммы.\n",
    "# Оси также скрыты, а диапазон x совпадает с левым графиком для сравнения.\n",
    "ax = axes[1]\n",
    "ax.hist(xsample, bins=30)\n",
    "ax.set_axis_off()\n",
    "ax.set_xlim(-3, 3)\n",
    "ax.set_position\n",
    "\n",
    "plt.show()"
   ]
  },
  {
   "cell_type": "markdown",
   "id": "1c259347-bc07-4e4b-aa50-27d5b0d83e85",
   "metadata": {},
   "source": [
    "#  Выборочное распределение статистики"
   ]
  },
  {
   "cell_type": "code",
   "execution_count": 9,
   "id": "995a4bc5-bed6-450c-aedd-8483e3ed1614",
   "metadata": {},
   "outputs": [
    {
     "data": {
      "text/html": [
       "<div>\n",
       "<style scoped>\n",
       "    .dataframe tbody tr th:only-of-type {\n",
       "        vertical-align: middle;\n",
       "    }\n",
       "\n",
       "    .dataframe tbody tr th {\n",
       "        vertical-align: top;\n",
       "    }\n",
       "\n",
       "    .dataframe thead th {\n",
       "        text-align: right;\n",
       "    }\n",
       "</style>\n",
       "<table border=\"1\" class=\"dataframe\">\n",
       "  <thead>\n",
       "    <tr style=\"text-align: right;\">\n",
       "      <th></th>\n",
       "      <th>x</th>\n",
       "    </tr>\n",
       "  </thead>\n",
       "  <tbody>\n",
       "    <tr>\n",
       "      <th>0</th>\n",
       "      <td>67000</td>\n",
       "    </tr>\n",
       "    <tr>\n",
       "      <th>1</th>\n",
       "      <td>52000</td>\n",
       "    </tr>\n",
       "    <tr>\n",
       "      <th>2</th>\n",
       "      <td>100000</td>\n",
       "    </tr>\n",
       "    <tr>\n",
       "      <th>3</th>\n",
       "      <td>78762</td>\n",
       "    </tr>\n",
       "    <tr>\n",
       "      <th>4</th>\n",
       "      <td>37041</td>\n",
       "    </tr>\n",
       "    <tr>\n",
       "      <th>...</th>\n",
       "      <td>...</td>\n",
       "    </tr>\n",
       "    <tr>\n",
       "      <th>49995</th>\n",
       "      <td>40000</td>\n",
       "    </tr>\n",
       "    <tr>\n",
       "      <th>49996</th>\n",
       "      <td>54000</td>\n",
       "    </tr>\n",
       "    <tr>\n",
       "      <th>49997</th>\n",
       "      <td>50000</td>\n",
       "    </tr>\n",
       "    <tr>\n",
       "      <th>49998</th>\n",
       "      <td>82000</td>\n",
       "    </tr>\n",
       "    <tr>\n",
       "      <th>49999</th>\n",
       "      <td>70000</td>\n",
       "    </tr>\n",
       "  </tbody>\n",
       "</table>\n",
       "<p>50000 rows × 1 columns</p>\n",
       "</div>"
      ],
      "text/plain": [
       "            x\n",
       "0       67000\n",
       "1       52000\n",
       "2      100000\n",
       "3       78762\n",
       "4       37041\n",
       "...       ...\n",
       "49995   40000\n",
       "49996   54000\n",
       "49997   50000\n",
       "49998   82000\n",
       "49999   70000\n",
       "\n",
       "[50000 rows x 1 columns]"
      ]
     },
     "execution_count": 9,
     "metadata": {},
     "output_type": "execute_result"
    }
   ],
   "source": [
    "loans_income = pd.read_csv(LOANS_INCOME_CSV)\n",
    "loans_income"
   ]
  },
  {
   "cell_type": "code",
   "execution_count": 10,
   "id": "ebd5e237-2371-4cbd-94cd-a1ea71d80133",
   "metadata": {},
   "outputs": [
    {
     "data": {
      "text/plain": [
       "0         67000\n",
       "1         52000\n",
       "2        100000\n",
       "3         78762\n",
       "4         37041\n",
       "          ...  \n",
       "49995     40000\n",
       "49996     54000\n",
       "49997     50000\n",
       "49998     82000\n",
       "49999     70000\n",
       "Name: x, Length: 50000, dtype: int64"
      ]
     },
     "execution_count": 10,
     "metadata": {},
     "output_type": "execute_result"
    }
   ],
   "source": [
    "loans_income = loans_income.squeeze(\"columns\")\n",
    "loans_income"
   ]
  },
  {
   "cell_type": "code",
   "execution_count": 11,
   "id": "27883a75-f21e-4c9a-a7df-e2df4d5fce7f",
   "metadata": {},
   "outputs": [
    {
     "data": {
      "text/html": [
       "<div>\n",
       "<style scoped>\n",
       "    .dataframe tbody tr th:only-of-type {\n",
       "        vertical-align: middle;\n",
       "    }\n",
       "\n",
       "    .dataframe tbody tr th {\n",
       "        vertical-align: top;\n",
       "    }\n",
       "\n",
       "    .dataframe thead th {\n",
       "        text-align: right;\n",
       "    }\n",
       "</style>\n",
       "<table border=\"1\" class=\"dataframe\">\n",
       "  <thead>\n",
       "    <tr style=\"text-align: right;\">\n",
       "      <th></th>\n",
       "      <th>income</th>\n",
       "      <th>type</th>\n",
       "    </tr>\n",
       "  </thead>\n",
       "  <tbody>\n",
       "    <tr>\n",
       "      <th>40292</th>\n",
       "      <td>63000</td>\n",
       "      <td>Data</td>\n",
       "    </tr>\n",
       "    <tr>\n",
       "      <th>38959</th>\n",
       "      <td>92000</td>\n",
       "      <td>Data</td>\n",
       "    </tr>\n",
       "    <tr>\n",
       "      <th>17361</th>\n",
       "      <td>134000</td>\n",
       "      <td>Data</td>\n",
       "    </tr>\n",
       "    <tr>\n",
       "      <th>33996</th>\n",
       "      <td>52000</td>\n",
       "      <td>Data</td>\n",
       "    </tr>\n",
       "    <tr>\n",
       "      <th>26491</th>\n",
       "      <td>43000</td>\n",
       "      <td>Data</td>\n",
       "    </tr>\n",
       "    <tr>\n",
       "      <th>...</th>\n",
       "      <td>...</td>\n",
       "      <td>...</td>\n",
       "    </tr>\n",
       "    <tr>\n",
       "      <th>31345</th>\n",
       "      <td>110000</td>\n",
       "      <td>Data</td>\n",
       "    </tr>\n",
       "    <tr>\n",
       "      <th>12399</th>\n",
       "      <td>60000</td>\n",
       "      <td>Data</td>\n",
       "    </tr>\n",
       "    <tr>\n",
       "      <th>15</th>\n",
       "      <td>36000</td>\n",
       "      <td>Data</td>\n",
       "    </tr>\n",
       "    <tr>\n",
       "      <th>9943</th>\n",
       "      <td>48000</td>\n",
       "      <td>Data</td>\n",
       "    </tr>\n",
       "    <tr>\n",
       "      <th>41361</th>\n",
       "      <td>52942</td>\n",
       "      <td>Data</td>\n",
       "    </tr>\n",
       "  </tbody>\n",
       "</table>\n",
       "<p>1000 rows × 2 columns</p>\n",
       "</div>"
      ],
      "text/plain": [
       "       income  type\n",
       "40292   63000  Data\n",
       "38959   92000  Data\n",
       "17361  134000  Data\n",
       "33996   52000  Data\n",
       "26491   43000  Data\n",
       "...       ...   ...\n",
       "31345  110000  Data\n",
       "12399   60000  Data\n",
       "15      36000  Data\n",
       "9943    48000  Data\n",
       "41361   52942  Data\n",
       "\n",
       "[1000 rows x 2 columns]"
      ]
     },
     "execution_count": 11,
     "metadata": {},
     "output_type": "execute_result"
    }
   ],
   "source": [
    "sample_data = pd.DataFrame({\n",
    "    \"income\": loans_income.sample(1000),\n",
    "    \"type\": \"Data\",\n",
    "})\n",
    "\n",
    "sample_data"
   ]
  },
  {
   "cell_type": "code",
   "execution_count": 12,
   "id": "91f565cd-0733-44dd-b9aa-6a445964c3ac",
   "metadata": {},
   "outputs": [
    {
     "data": {
      "text/html": [
       "<div>\n",
       "<style scoped>\n",
       "    .dataframe tbody tr th:only-of-type {\n",
       "        vertical-align: middle;\n",
       "    }\n",
       "\n",
       "    .dataframe tbody tr th {\n",
       "        vertical-align: top;\n",
       "    }\n",
       "\n",
       "    .dataframe thead th {\n",
       "        text-align: right;\n",
       "    }\n",
       "</style>\n",
       "<table border=\"1\" class=\"dataframe\">\n",
       "  <thead>\n",
       "    <tr style=\"text-align: right;\">\n",
       "      <th></th>\n",
       "      <th>income</th>\n",
       "      <th>type</th>\n",
       "    </tr>\n",
       "  </thead>\n",
       "  <tbody>\n",
       "    <tr>\n",
       "      <th>0</th>\n",
       "      <td>83700.0</td>\n",
       "      <td>Mean of 5</td>\n",
       "    </tr>\n",
       "    <tr>\n",
       "      <th>1</th>\n",
       "      <td>56200.0</td>\n",
       "      <td>Mean of 5</td>\n",
       "    </tr>\n",
       "    <tr>\n",
       "      <th>2</th>\n",
       "      <td>45000.0</td>\n",
       "      <td>Mean of 5</td>\n",
       "    </tr>\n",
       "    <tr>\n",
       "      <th>3</th>\n",
       "      <td>73000.0</td>\n",
       "      <td>Mean of 5</td>\n",
       "    </tr>\n",
       "    <tr>\n",
       "      <th>4</th>\n",
       "      <td>65200.0</td>\n",
       "      <td>Mean of 5</td>\n",
       "    </tr>\n",
       "    <tr>\n",
       "      <th>...</th>\n",
       "      <td>...</td>\n",
       "      <td>...</td>\n",
       "    </tr>\n",
       "    <tr>\n",
       "      <th>995</th>\n",
       "      <td>66161.0</td>\n",
       "      <td>Mean of 5</td>\n",
       "    </tr>\n",
       "    <tr>\n",
       "      <th>996</th>\n",
       "      <td>68939.8</td>\n",
       "      <td>Mean of 5</td>\n",
       "    </tr>\n",
       "    <tr>\n",
       "      <th>997</th>\n",
       "      <td>50400.0</td>\n",
       "      <td>Mean of 5</td>\n",
       "    </tr>\n",
       "    <tr>\n",
       "      <th>998</th>\n",
       "      <td>50400.0</td>\n",
       "      <td>Mean of 5</td>\n",
       "    </tr>\n",
       "    <tr>\n",
       "      <th>999</th>\n",
       "      <td>68425.8</td>\n",
       "      <td>Mean of 5</td>\n",
       "    </tr>\n",
       "  </tbody>\n",
       "</table>\n",
       "<p>1000 rows × 2 columns</p>\n",
       "</div>"
      ],
      "text/plain": [
       "      income       type\n",
       "0    83700.0  Mean of 5\n",
       "1    56200.0  Mean of 5\n",
       "2    45000.0  Mean of 5\n",
       "3    73000.0  Mean of 5\n",
       "4    65200.0  Mean of 5\n",
       "..       ...        ...\n",
       "995  66161.0  Mean of 5\n",
       "996  68939.8  Mean of 5\n",
       "997  50400.0  Mean of 5\n",
       "998  50400.0  Mean of 5\n",
       "999  68425.8  Mean of 5\n",
       "\n",
       "[1000 rows x 2 columns]"
      ]
     },
     "execution_count": 12,
     "metadata": {},
     "output_type": "execute_result"
    }
   ],
   "source": [
    "sample_data_05 = pd.DataFrame({\n",
    "    \"income\": [loans_income.sample(5).mean() for _ in range(1000)],\n",
    "    \"type\": \"Mean of 5\",\n",
    "})\n",
    "\n",
    "sample_data_05"
   ]
  },
  {
   "cell_type": "code",
   "execution_count": 13,
   "id": "d33115b4-d6cc-4370-8de8-4371511c6abf",
   "metadata": {},
   "outputs": [
    {
     "data": {
      "text/html": [
       "<div>\n",
       "<style scoped>\n",
       "    .dataframe tbody tr th:only-of-type {\n",
       "        vertical-align: middle;\n",
       "    }\n",
       "\n",
       "    .dataframe tbody tr th {\n",
       "        vertical-align: top;\n",
       "    }\n",
       "\n",
       "    .dataframe thead th {\n",
       "        text-align: right;\n",
       "    }\n",
       "</style>\n",
       "<table border=\"1\" class=\"dataframe\">\n",
       "  <thead>\n",
       "    <tr style=\"text-align: right;\">\n",
       "      <th></th>\n",
       "      <th>income</th>\n",
       "      <th>type</th>\n",
       "    </tr>\n",
       "  </thead>\n",
       "  <tbody>\n",
       "    <tr>\n",
       "      <th>0</th>\n",
       "      <td>81372.55</td>\n",
       "      <td>Mean of 20</td>\n",
       "    </tr>\n",
       "    <tr>\n",
       "      <th>1</th>\n",
       "      <td>60432.05</td>\n",
       "      <td>Mean of 20</td>\n",
       "    </tr>\n",
       "    <tr>\n",
       "      <th>2</th>\n",
       "      <td>69336.60</td>\n",
       "      <td>Mean of 20</td>\n",
       "    </tr>\n",
       "    <tr>\n",
       "      <th>3</th>\n",
       "      <td>72635.50</td>\n",
       "      <td>Mean of 20</td>\n",
       "    </tr>\n",
       "    <tr>\n",
       "      <th>4</th>\n",
       "      <td>69729.80</td>\n",
       "      <td>Mean of 20</td>\n",
       "    </tr>\n",
       "    <tr>\n",
       "      <th>...</th>\n",
       "      <td>...</td>\n",
       "      <td>...</td>\n",
       "    </tr>\n",
       "    <tr>\n",
       "      <th>995</th>\n",
       "      <td>70262.50</td>\n",
       "      <td>Mean of 20</td>\n",
       "    </tr>\n",
       "    <tr>\n",
       "      <th>996</th>\n",
       "      <td>75054.00</td>\n",
       "      <td>Mean of 20</td>\n",
       "    </tr>\n",
       "    <tr>\n",
       "      <th>997</th>\n",
       "      <td>79831.55</td>\n",
       "      <td>Mean of 20</td>\n",
       "    </tr>\n",
       "    <tr>\n",
       "      <th>998</th>\n",
       "      <td>69985.40</td>\n",
       "      <td>Mean of 20</td>\n",
       "    </tr>\n",
       "    <tr>\n",
       "      <th>999</th>\n",
       "      <td>70359.20</td>\n",
       "      <td>Mean of 20</td>\n",
       "    </tr>\n",
       "  </tbody>\n",
       "</table>\n",
       "<p>1000 rows × 2 columns</p>\n",
       "</div>"
      ],
      "text/plain": [
       "       income        type\n",
       "0    81372.55  Mean of 20\n",
       "1    60432.05  Mean of 20\n",
       "2    69336.60  Mean of 20\n",
       "3    72635.50  Mean of 20\n",
       "4    69729.80  Mean of 20\n",
       "..        ...         ...\n",
       "995  70262.50  Mean of 20\n",
       "996  75054.00  Mean of 20\n",
       "997  79831.55  Mean of 20\n",
       "998  69985.40  Mean of 20\n",
       "999  70359.20  Mean of 20\n",
       "\n",
       "[1000 rows x 2 columns]"
      ]
     },
     "execution_count": 13,
     "metadata": {},
     "output_type": "execute_result"
    }
   ],
   "source": [
    "sample_data_20 = pd.DataFrame({\n",
    "    \"income\": [loans_income.sample(20).mean() for _ in range(1000)],\n",
    "    \"type\": \"Mean of 20\",\n",
    "})\n",
    "\n",
    "sample_data_20"
   ]
  },
  {
   "cell_type": "code",
   "execution_count": 14,
   "id": "844e248a-c140-488b-8963-a354b859fa51",
   "metadata": {},
   "outputs": [
    {
     "data": {
      "text/html": [
       "<div>\n",
       "<style scoped>\n",
       "    .dataframe tbody tr th:only-of-type {\n",
       "        vertical-align: middle;\n",
       "    }\n",
       "\n",
       "    .dataframe tbody tr th {\n",
       "        vertical-align: top;\n",
       "    }\n",
       "\n",
       "    .dataframe thead th {\n",
       "        text-align: right;\n",
       "    }\n",
       "</style>\n",
       "<table border=\"1\" class=\"dataframe\">\n",
       "  <thead>\n",
       "    <tr style=\"text-align: right;\">\n",
       "      <th></th>\n",
       "      <th>income</th>\n",
       "      <th>type</th>\n",
       "    </tr>\n",
       "  </thead>\n",
       "  <tbody>\n",
       "    <tr>\n",
       "      <th>40292</th>\n",
       "      <td>63000.00</td>\n",
       "      <td>Data</td>\n",
       "    </tr>\n",
       "    <tr>\n",
       "      <th>38959</th>\n",
       "      <td>92000.00</td>\n",
       "      <td>Data</td>\n",
       "    </tr>\n",
       "    <tr>\n",
       "      <th>17361</th>\n",
       "      <td>134000.00</td>\n",
       "      <td>Data</td>\n",
       "    </tr>\n",
       "    <tr>\n",
       "      <th>33996</th>\n",
       "      <td>52000.00</td>\n",
       "      <td>Data</td>\n",
       "    </tr>\n",
       "    <tr>\n",
       "      <th>26491</th>\n",
       "      <td>43000.00</td>\n",
       "      <td>Data</td>\n",
       "    </tr>\n",
       "    <tr>\n",
       "      <th>...</th>\n",
       "      <td>...</td>\n",
       "      <td>...</td>\n",
       "    </tr>\n",
       "    <tr>\n",
       "      <th>995</th>\n",
       "      <td>70262.50</td>\n",
       "      <td>Mean of 20</td>\n",
       "    </tr>\n",
       "    <tr>\n",
       "      <th>996</th>\n",
       "      <td>75054.00</td>\n",
       "      <td>Mean of 20</td>\n",
       "    </tr>\n",
       "    <tr>\n",
       "      <th>997</th>\n",
       "      <td>79831.55</td>\n",
       "      <td>Mean of 20</td>\n",
       "    </tr>\n",
       "    <tr>\n",
       "      <th>998</th>\n",
       "      <td>69985.40</td>\n",
       "      <td>Mean of 20</td>\n",
       "    </tr>\n",
       "    <tr>\n",
       "      <th>999</th>\n",
       "      <td>70359.20</td>\n",
       "      <td>Mean of 20</td>\n",
       "    </tr>\n",
       "  </tbody>\n",
       "</table>\n",
       "<p>3000 rows × 2 columns</p>\n",
       "</div>"
      ],
      "text/plain": [
       "          income        type\n",
       "40292   63000.00        Data\n",
       "38959   92000.00        Data\n",
       "17361  134000.00        Data\n",
       "33996   52000.00        Data\n",
       "26491   43000.00        Data\n",
       "...          ...         ...\n",
       "995     70262.50  Mean of 20\n",
       "996     75054.00  Mean of 20\n",
       "997     79831.55  Mean of 20\n",
       "998     69985.40  Mean of 20\n",
       "999     70359.20  Mean of 20\n",
       "\n",
       "[3000 rows x 2 columns]"
      ]
     },
     "execution_count": 14,
     "metadata": {},
     "output_type": "execute_result"
    }
   ],
   "source": [
    "results = pd.concat([sample_data, sample_data_05, sample_data_20])\n",
    "results"
   ]
  },
  {
   "cell_type": "markdown",
   "id": "4aec4ae2-25c8-4667-8865-3bc689d05f52",
   "metadata": {},
   "source": [
    "# Гистограмма годовых доходов 1000 ссудозаявителей (1)\n",
    "# затем 1000 средних с числом заявителей 5 (2)\n",
    "# и 20 (3)"
   ]
  },
  {
   "cell_type": "code",
   "execution_count": 15,
   "id": "ad3f76c2-fb54-4a84-8b77-a6e38b7a9669",
   "metadata": {},
   "outputs": [
    {
     "data": {
      "image/png": "[encoded data removed]",
      "text/plain": [
       "<Figure size 400x600 with 3 Axes>"
      ]
     },
     "metadata": {},
     "output_type": "display_data"
    }
   ],
   "source": [
    "g = sns.FacetGrid(results, col=\"type\", col_wrap=1, height=2, aspect=2)\n",
    "g.map(plt.hist, \"income\", range=[0, 200000], bins=40)\n",
    "g.set_axis_labels(\"Income\", \"Count\")\n",
    "g.set_titles(\"{col_name}\")\n",
    "\n",
    "plt.show()"
   ]
  },
  {
   "cell_type": "markdown",
   "id": "40fbde4d-2f76-4599-8edb-f0f734da0b9d",
   "metadata": {},
   "source": [
    "# Бутстрап"
   ]
  },
  {
   "cell_type": "markdown",
   "id": "41e7cc96-8853-4bca-9de8-706bb6e0cdee",
   "metadata": {},
   "source": [
    "алгоритм бутстрапа\n",
    "1. извлечь выборочное значение, записать его и вернуть назад\n",
    "2. повторить n раз\n",
    "3. записать среднее для n повторно отобранных значений\n",
    "4. повторить шаги 1-3 R раз\n",
    "5. использовать R результатов, чтобы вычислить их std"
   ]
  },
  {
   "cell_type": "code",
   "execution_count": 18,
   "id": "5d2b7a5f-f38e-4e7c-a11e-6afee99c67a4",
   "metadata": {},
   "outputs": [
    {
     "name": "stdout",
     "output_type": "stream",
     "text": [
      "Статистика бутстрапа\n",
      "исходно: 62000.0\n",
      "смещение: -87.46349999999802\n",
      "станд.ошибка: 227.51910548591607\n"
     ]
    }
   ],
   "source": [
    "results = []\n",
    "\n",
    "for nrepaeat in range(1000):\n",
    "    sample = resample(loans_income)\n",
    "    results.append(sample.median())\n",
    "results = pd.Series(results)\n",
    "\n",
    "print(\"Статистика бутстрапа\")\n",
    "print(f\"исходно: {loans_income.median()}\")\n",
    "print(f\"смещение: {results.mean() - loans_income.median()}\")\n",
    "print(f\"станд.ошибка: {results.std()}\")"
   ]
  },
  {
   "cell_type": "markdown",
   "id": "f91cc62e-cae6-49af-becf-907a289e409b",
   "metadata": {},
   "source": [
    "# Доверительные интервалы"
   ]
  },
  {
   "cell_type": "code",
   "execution_count": 19,
   "id": "acf5e10f-7c56-4238-af41-304b4a2acbc7",
   "metadata": {},
   "outputs": [
    {
     "name": "stdout",
     "output_type": "stream",
     "text": [
      "68760.51844\n",
      "55734.1\n"
     ]
    },
    {
     "data": {
      "image/png": "[encoded data removed]",
      "text/plain": [
       "<Figure size 400x300 with 1 Axes>"
      ]
     },
     "metadata": {},
     "output_type": "display_data"
    }
   ],
   "source": [
    "print(loans_income.mean())\n",
    "np.random.seed(seed=3)  \n",
    "\n",
    "# создать выборку из 20 данных о доходах по кредитам\n",
    "sample20 = resample(loans_income, n_samples=20, replace=False)\n",
    "print(sample20.mean())\n",
    "\n",
    "results = []\n",
    "for nrepeat in range(500):\n",
    "    sample = resample(sample20)\n",
    "    results.append(sample.mean())\n",
    "results = pd.Series(results)\n",
    "\n",
    "confidence_interval = list(results.quantile([0.05, 0.95]))\n",
    "ax = results.plot.hist(bins=30, figsize=(4, 3))\n",
    "ax.plot(confidence_interval, [55, 55], color='black')\n",
    "for x in confidence_interval:\n",
    "    ax.plot([x, x], [0, 65], color='black')\n",
    "    ax.text(x, 70, f'{x:.0f}', \n",
    "            horizontalalignment='center', verticalalignment='center')\n",
    "ax.text(sum(confidence_interval) / 2, 60, '90% interval',\n",
    "        horizontalalignment='center', verticalalignment='center')\n",
    "\n",
    "meanIncome = results.mean()\n",
    "ax.plot([meanIncome, meanIncome], [0, 50], color='black', linestyle='--')\n",
    "ax.text(meanIncome, 10, f'Mean: {meanIncome:.0f}',\n",
    "        bbox=dict(facecolor='white', edgecolor='white', alpha=0.5),\n",
    "        horizontalalignment='center', verticalalignment='center')\n",
    "ax.set_ylim(0, 80)\n",
    "ax.set_ylabel('Counts')\n",
    "\n",
    "plt.tight_layout()\n",
    "plt.show()"
   ]
  },
  {
   "cell_type": "code",
   "execution_count": 20,
   "id": "dc2e897c-4073-4ebd-8fc4-00d6c988d21a",
   "metadata": {},
   "outputs": [
    {
     "data": {
      "text/plain": [
       "Text(0, 0.5, 'Counts')"
      ]
     },
     "execution_count": 20,
     "metadata": {},
     "output_type": "execute_result"
    }
   ],
   "source": [
    "np.random.seed(seed=3)\n",
    "# create a sample of 20 loan income data\n",
    "sample20 = resample(loans_income, n_samples=20, replace=False)\n",
    "\n",
    "results = []\n",
    "for nrepeat in range(500):\n",
    "    sample = resample(sample20)\n",
    "    results.append(sample.mean())\n",
    "results = pd.Series(results)\n",
    "\n",
    "confidence_interval = list(results.quantile([0.05, 0.95]))\n",
    "ax = results.plot.hist(bins=30, figsize=(4, 3), color='C1')\n",
    "ax.plot(confidence_interval, [55, 55], color='black', linestyle='--')\n",
    "for x in confidence_interval:\n",
    "    ax.plot([x, x], [0, 60], color='black')\n",
    "ax.text(82000, 50, \n",
    "        f'90% CI\\n[{confidence_interval[0]:.0f}, {confidence_interval[1]:.0f}]',\n",
    "       fontsize='small')\n",
    "\n",
    "confidence_interval = list(results.quantile([0.025, 0.975]))\n",
    "ax = results.plot.hist(bins=30, figsize=(4, 3))\n",
    "ax.plot(confidence_interval, [65, 65], color='black', linestyle='--')\n",
    "for x in confidence_interval:\n",
    "    ax.plot([x, x], [0, 70], color='black')\n",
    "ax.text(82000, 65, \n",
    "        f'95% CI\\n[{confidence_interval[0]:.0f}, {confidence_interval[1]:.0f}]',\n",
    "       fontsize='small')\n",
    "# ax.text(sum(confidence_interval) / 2, 264, '95 % interval',\n",
    "#         horizontalalignment='center', verticalalignment='center')\n",
    "\n",
    "meanIncome = results.mean()\n",
    "ax.plot([meanIncome, meanIncome], [0, 50], color='black', linestyle='--')\n",
    "ax.text(meanIncome, 5, f'Mean: {meanIncome:.0f}',\n",
    "        bbox=dict(facecolor='white', edgecolor='white', alpha=0.5),\n",
    "        horizontalalignment='center', verticalalignment='center')\n",
    "ax.set_ylim(0, 80)\n",
    "ax.set_xlim(37000, 102000)\n",
    "ax.set_xticks([40000, 50000, 60000, 70000, 80000])\n",
    "ax.set_ylabel('Counts')\n",
    "\n",
    "# plt.tight_layout()\n",
    "# plt.show()"
   ]
  },
  {
   "cell_type": "markdown",
   "id": "f8a21339-d875-4df5-b7d1-cd29238df282",
   "metadata": {},
   "source": [
    "# Нормальное распределение"
   ]
  },
  {
   "cell_type": "markdown",
   "id": "a06f204b-20d6-43dd-a1c5-eed7b1ebd179",
   "metadata": {},
   "source": [
    "Стандартное нормальное распределение и квантиль-квантильные графики"
   ]
  },
  {
   "cell_type": "markdown",
   "id": "216d2019-9118-445f-84b2-e3fad52e63aa",
   "metadata": {},
   "source": [
    "В пакете _scipy_ есть функция (`scipy.stats.probplot`) для создания QQ-графиков. Аргумент `dist` указывает распределение, которое по умолчанию установлено на нормальное распределение."
   ]
  },
  {
   "cell_type": "code",
   "execution_count": 22,
   "id": "a52e2dc1-3164-43cc-8f07-a7326a25d387",
   "metadata": {},
   "outputs": [
    {
     "data": {
      "image/png": "[encoded data removed]",
      "text/plain": [
       "<Figure size 400x400 with 1 Axes>"
      ]
     },
     "metadata": {},
     "output_type": "display_data"
    }
   ],
   "source": [
    "fig, ax = plt.subplots(figsize=(4, 4))\n",
    "\n",
    "norm_sample = stats.norm.rvs(size=1000)\n",
    "stats.probplot(norm_sample, plot=ax)\n",
    "\n",
    "plt.show()"
   ]
  },
  {
   "cell_type": "markdown",
   "id": "93fa35ad-7f9c-4850-b35d-862e9008b752",
   "metadata": {},
   "source": [
    "# Длиннохвостое распределение"
   ]
  },
  {
   "cell_type": "code",
   "execution_count": 23,
   "id": "7f1f3c84-2ca4-4c1c-b0d5-38e7148d9a06",
   "metadata": {},
   "outputs": [
    {
     "data": {
      "image/png": "[encoded data removed]",
      "text/plain": [
       "<Figure size 400x400 with 1 Axes>"
      ]
     },
     "metadata": {},
     "output_type": "display_data"
    }
   ],
   "source": [
    "sp500_px = pd.read_csv(SP500_DATA_CSV)\n",
    "\n",
    "nflx = sp500_px.NFLX\n",
    "nflx = np.diff(np.log(nflx[nflx > 0]))\n",
    "\n",
    "fig, ax = plt.subplots(figsize=(4, 4))\n",
    "stats.probplot(nflx, plot=ax)\n",
    "\n",
    "plt.show()"
   ]
  },
  {
   "cell_type": "markdown",
   "id": "f25dfec8-51f7-4610-95b8-b698f8ef0a58",
   "metadata": {},
   "source": [
    "# Биноминальное распределение"
   ]
  },
  {
   "cell_type": "code",
   "execution_count": 24,
   "id": "335b4087-12d8-4b44-aac3-a05f771bd910",
   "metadata": {},
   "outputs": [
    {
     "data": {
      "text/plain": [
       "0.07289999999999992"
      ]
     },
     "execution_count": 24,
     "metadata": {},
     "output_type": "execute_result"
    }
   ],
   "source": [
    "stats.binom.pmf(2, n=5, p=0.1)"
   ]
  },
  {
   "cell_type": "code",
   "execution_count": 25,
   "id": "83a71641-4c3c-4177-84d1-0ae359b32ef4",
   "metadata": {},
   "outputs": [
    {
     "data": {
      "text/plain": [
       "0.99144"
      ]
     },
     "execution_count": 25,
     "metadata": {},
     "output_type": "execute_result"
    }
   ],
   "source": [
    "stats.binom.cdf(2, n=5, p=0.1)"
   ]
  },
  {
   "cell_type": "markdown",
   "id": "25ff49e3-b966-4f7b-9f96-5ee132c114dc",
   "metadata": {},
   "source": [
    "# Распредление Пуассона"
   ]
  },
  {
   "cell_type": "code",
   "execution_count": 26,
   "id": "2dacd4a6-e9d3-478a-a176-296d6afe907b",
   "metadata": {},
   "outputs": [
    {
     "data": {
      "image/png": "[encoded data removed]",
      "text/plain": [
       "<Figure size 640x480 with 1 Axes>"
      ]
     },
     "metadata": {},
     "output_type": "display_data"
    }
   ],
   "source": [
    "sample = stats.poisson.rvs(2, size=100)\n",
    "\n",
    "pd.Series(sample).plot.hist()\n",
    "plt.show()"
   ]
  },
  {
   "cell_type": "markdown",
   "id": "ded13930-5287-4a3f-a6fa-eb1471d0565c",
   "metadata": {},
   "source": [
    "# Экспоненциальное распределение"
   ]
  },
  {
   "cell_type": "code",
   "execution_count": 29,
   "id": "7b7916f3-d105-4f00-abbc-8d5c7ded48db",
   "metadata": {},
   "outputs": [
    {
     "data": {
      "image/png": "[encoded data removed]",
      "text/plain": [
       "<Figure size 640x480 with 1 Axes>"
      ]
     },
     "metadata": {},
     "output_type": "display_data"
    }
   ],
   "source": [
    "sample = stats.expon.rvs(scale=5, size=100)\n",
    "\n",
    "pd.Series(sample).plot.hist()\n",
    "plt.show()"
   ]
  },
  {
   "cell_type": "markdown",
   "id": "4b001e88-02d0-4ca5-8b94-5f865e8bd278",
   "metadata": {},
   "source": [
    "# Распределение Вейбулла"
   ]
  },
  {
   "cell_type": "code",
   "execution_count": 31,
   "id": "ee480404-467e-4dd0-9736-19b71fc707d5",
   "metadata": {},
   "outputs": [
    {
     "data": {
      "image/png": "[encoded data removed]",
      "text/plain": [
       "<Figure size 640x480 with 1 Axes>"
      ]
     },
     "metadata": {},
     "output_type": "display_data"
    }
   ],
   "source": [
    "sample = stats.weibull_min.rvs(1.5, scale=5000, size=100)\n",
    "\n",
    "pd.Series(sample).plot.hist()\n",
    "plt.show()"
   ]
  },
  {
   "cell_type": "code",
   "execution_count": null,
   "id": "b12a8968-f2cf-43b6-abf7-195e1a6f3600",
   "metadata": {},
   "outputs": [],
   "source": []
  }
 ],
 "metadata": {
  "kernelspec": {
   "display_name": "Python 3 (ipykernel)",
   "language": "python",
   "name": "python3"
  },
  "language_info": {
   "codemirror_mode": {
    "name": "ipython",
    "version": 3
   },
   "file_extension": ".py",
   "mimetype": "text/x-python",
   "name": "python",
   "nbconvert_exporter": "python",
   "pygments_lexer": "ipython3",
   "version": "3.12.2"
  }
 },
 "nbformat": 4,
 "nbformat_minor": 5
}
